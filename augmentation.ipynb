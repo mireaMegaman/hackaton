{
 "cells": [
  {
   "cell_type": "code",
   "execution_count": 8,
   "metadata": {},
   "outputs": [],
   "source": [
    "from albumentations import *      # For data augmentation\n",
    "import cv2                        # For loading images\n",
    "import os\n",
    "from shutil import copyfile"
   ]
  },
  {
   "cell_type": "code",
   "execution_count": 15,
   "metadata": {},
   "outputs": [
    {
     "name": "stderr",
     "output_type": "stream",
     "text": [
      "d:\\Education\\Hacaton\\.venv\\Lib\\site-packages\\albumentations\\augmentations\\transforms.py:1175: FutureWarning: RandomContrast has been deprecated. Please use RandomBrightnessContrast\n",
      "  warnings.warn(\n"
     ]
    }
   ],
   "source": [
    "transform1 = Compose([\n",
    "    HorizontalFlip(always_apply=True),\n",
    "    RandomContrast(limit=(-0.4, -0.06), p=0.8),\n",
    "    Rotate(limit=(-35, 35), interpolation=4, border_mode=0, p=0.7),\n",
    "    MotionBlur(blur_limit=(5, 11), p=0.6)\n",
    "])"
   ]
  },
  {
   "cell_type": "code",
   "execution_count": 9,
   "metadata": {},
   "outputs": [
    {
     "name": "stderr",
     "output_type": "stream",
     "text": [
      "d:\\Education\\Hacaton\\.venv\\Lib\\site-packages\\albumentations\\augmentations\\transforms.py:1175: FutureWarning: RandomContrast has been deprecated. Please use RandomBrightnessContrast\n",
      "  warnings.warn(\n"
     ]
    }
   ],
   "source": [
    "transform2 = Compose([\n",
    "    RandomFog(fog_coef_lower=0.2, fog_coef_upper=0.35, alpha_coef=0.12, p=0.7),\n",
    "    Sharpen(p=0.8),\n",
    "    Spatter(p=0.7, mean=(1.27, 1.27), std=(20.52, 20.52), gauss_sigma=(10.0, 10.0), intensity=(0.20, 0.20), cutout_threshold=(0.97, 0.97)),\n",
    "    RandomContrast(p=0.7, limit=(-0.35, 0.1))\n",
    "])"
   ]
  },
  {
   "cell_type": "code",
   "execution_count": 17,
   "metadata": {},
   "outputs": [],
   "source": [
    "transform3 = Compose([\n",
    "    Blur(blur_limit=(3,7)),\n",
    "    MedianBlur(blur_limit=(3,7)),\n",
    "    ToGray(),\n",
    "    CLAHE(clip_limit=(1, 4), tile_grid_size=(8,8)),\n",
    "])"
   ]
  },
  {
   "cell_type": "code",
   "execution_count": 6,
   "metadata": {},
   "outputs": [],
   "source": [
    "def load_img(path):\n",
    "    image = cv2.imread(path)\n",
    "    return image"
   ]
  },
  {
   "cell_type": "code",
   "execution_count": 7,
   "metadata": {},
   "outputs": [],
   "source": [
    "images = './LabelStudio/images/'\n",
    "labels = './LabelStudio/labels'\n",
    "for index, filename in enumerate(os.listdir(images)):\n",
    "    image = load_img(os.path.join(images, filename))\n",
    "    transforms = [transform2, transform2, transform3]\n",
    "    for i, el in enumerate(transforms):\n",
    "        augmented = el(image=image)    \n",
    "        augmented_image = augmented['image']\n",
    "        new_name = f'{filename[9:-4]}-{i + 1}'\n",
    "        cv2.imwrite(os.path.join('./TMP/images/', f'{new_name}.jpg'), augmented_image)\n",
    "        copyfile(os.path.join(labels, f'{filename[:-4]}.txt'), (os.path.join('./TMP/labels/', f'{new_name}.txt')))\n",
    "    copyfile(os.path.join(labels, f'{filename[:-4]}.txt'), (os.path.join('./TMP/labels/', f'{filename[:-4]}.txt')))\n",
    "    copyfile(os.path.join(images, filename), (os.path.join('./TMP/images/', filename)))"
   ]
  },
  {
   "cell_type": "code",
   "execution_count": 18,
   "metadata": {},
   "outputs": [],
   "source": [
    "all = './All/'\n",
    "for index, filename in enumerate(os.listdir(all)):\n",
    "    image = load_img(os.path.join(all, filename))\n",
    "    transforms = [transform2]\n",
    "    for i, el in enumerate(transforms):\n",
    "        augmented = el(image=image)    \n",
    "        augmented_image = augmented['image']\n",
    "        cv2.imwrite(os.path.join('./Augmented/', filename), augmented_image)\n",
    "    if index == 10:\n",
    "        break"
   ]
  }
 ],
 "metadata": {
  "kernelspec": {
   "display_name": ".venv",
   "language": "python",
   "name": "python3"
  },
  "language_info": {
   "codemirror_mode": {
    "name": "ipython",
    "version": 3
   },
   "file_extension": ".py",
   "mimetype": "text/x-python",
   "name": "python",
   "nbconvert_exporter": "python",
   "pygments_lexer": "ipython3",
   "version": "3.11.2"
  },
  "orig_nbformat": 4
 },
 "nbformat": 4,
 "nbformat_minor": 2
}
